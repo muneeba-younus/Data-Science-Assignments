{
 "cells": [
  {
   "cell_type": "code",
   "execution_count": 1,
   "id": "f9965751",
   "metadata": {},
   "outputs": [
    {
     "name": "stdout",
     "output_type": "stream",
     "text": [
      "Twinkle, twinkle, little star,\n",
      "\tHow I wonder what you are!\n",
      "\t\tUp above the world so high,\n",
      "\t\tLike a diamond in the sky.\n",
      "Twinkle, twinkle, little star,\n",
      "\tHow I wonder what you are\n"
     ]
    }
   ],
   "source": [
    "# Write a Python program to print the following string in a specific format (see the output).\n",
    "print(\"Twinkle, twinkle, little star,\\n\\tHow I wonder what you are!\\n\\t\\tUp above the world so high,\\n\\t\\tLike a diamond in the sky.\\nTwinkle, twinkle, little star,\\n\\tHow I wonder what you are\")"
   ]
  },
  {
   "cell_type": "code",
   "execution_count": 2,
   "id": "1954dd39",
   "metadata": {},
   "outputs": [
    {
     "name": "stdout",
     "output_type": "stream",
     "text": [
      "Python version3.8.8 (default, Apr 13 2021, 15:08:03) [MSC v.1916 64 bit (AMD64)]\n"
     ]
    }
   ],
   "source": [
    "# Write a Python program to get the Python version you are using\n",
    "import sys\n",
    "print(\"Python version\" + sys.version)"
   ]
  },
  {
   "cell_type": "code",
   "execution_count": 3,
   "id": "8beb6467",
   "metadata": {},
   "outputs": [
    {
     "name": "stdout",
     "output_type": "stream",
     "text": [
      "Current Date: 2021-12-31\n",
      "Current Time: 21:30:01\n"
     ]
    }
   ],
   "source": [
    "# Write a Python program to display the current date and time.\n",
    "from datetime import datetime\n",
    "current = datetime.now()\n",
    "print (\"Current Date: \" + current.strftime(\"%Y-%m-%d\") + \"\\nCurrent Time: \" + current.strftime(\"%H:%M:%S\"))"
   ]
  },
  {
   "cell_type": "code",
   "execution_count": 4,
   "id": "57d57095",
   "metadata": {},
   "outputs": [
    {
     "name": "stdout",
     "output_type": "stream",
     "text": [
      "Enter the value of radius: 4.4\n",
      "\n",
      "The Area of a Circle is:  60.821233773498406\n"
     ]
    }
   ],
   "source": [
    "# Write a Python program which accepts the radius of a circle from the user and compute the area. \n",
    "from math import pi\n",
    "radius = float(input(\"Enter the value of radius: \"))\n",
    "radius = pi*radius**2\n",
    "print(\"\\nThe Area of a Circle is: \" , radius)"
   ]
  },
  {
   "cell_type": "code",
   "execution_count": 5,
   "id": "51fefc6e",
   "metadata": {},
   "outputs": [
    {
     "name": "stdout",
     "output_type": "stream",
     "text": [
      "Enter your First Name: Muneeba\n",
      "Enter your Last Name: Younus\n",
      "Name in Reverse Order: Younus Muneeba\n"
     ]
    }
   ],
   "source": [
    "# Write a Python program which accepts the user's first and last name and print them in reverse order with a space between them. \n",
    "f_name = input(\"Enter your First Name: \")\n",
    "l_name = input(\"Enter your Last Name: \")\n",
    "\n",
    "print(\"Name in Reverse Order: \" + l_name + \" \" + f_name)"
   ]
  },
  {
   "cell_type": "code",
   "execution_count": 6,
   "id": "63624f22",
   "metadata": {},
   "outputs": [
    {
     "name": "stdout",
     "output_type": "stream",
     "text": [
      "Enter 1st Number: 34\n",
      "Enter 2nd Number: 43\n",
      "Addition:  77\n"
     ]
    }
   ],
   "source": [
    "# Write a python program which takes two inputs from user and print them addition \n",
    "f_num = int(input(\"Enter 1st Number: \"))\n",
    "s_num = int(input(\"Enter 2nd Number: \"))\n",
    "sum = f_num + s_num\n",
    "print(\"Addition: \", sum)"
   ]
  }
 ],
 "metadata": {
  "kernelspec": {
   "display_name": "Python 3",
   "language": "python",
   "name": "python3"
  },
  "language_info": {
   "codemirror_mode": {
    "name": "ipython",
    "version": 3
   },
   "file_extension": ".py",
   "mimetype": "text/x-python",
   "name": "python",
   "nbconvert_exporter": "python",
   "pygments_lexer": "ipython3",
   "version": "3.8.8"
  }
 },
 "nbformat": 4,
 "nbformat_minor": 5
}
